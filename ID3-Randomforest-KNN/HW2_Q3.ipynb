{
 "cells": [
  {
   "cell_type": "code",
   "execution_count": 1,
   "id": "01d2a8e9",
   "metadata": {},
   "outputs": [],
   "source": [
    "import pandas as pd\n",
    "import numpy as np\n",
    "from scipy.stats import mode # Not for algorithm! Algorithm is from Scratch"
   ]
  },
  {
   "cell_type": "markdown",
   "id": "d4bfe8ab",
   "metadata": {},
   "source": [
    "# 3/ KNN Classifier function including Data Splite, Accuracy and Confusion "
   ]
  },
  {
   "cell_type": "code",
   "execution_count": 2,
   "id": "661fc5a3",
   "metadata": {},
   "outputs": [],
   "source": [
    "def Database_Spliting(data): # spliting data in 80-20 order for train and test \n",
    "    num_all = data.shape[0] \n",
    "    #print (num_all)\n",
    "    split_ind = int(80 / 100 * num_all)\n",
    "    test_data = data.iloc[split_ind:].reset_index(drop=True)\n",
    "    train_data = data.iloc[0:split_ind].reset_index(drop=True)\n",
    "    return test_data, train_data\n",
    "    \n",
    "class KNN_Classifier() : \n",
    "    def __init__( self, K ) :\n",
    "        self.K = K          \n",
    "\n",
    "    def fit(self, X_train, Y_train ) :\n",
    "        self.X_train = X_train\n",
    "        self.Y_train = Y_train\n",
    "        self.m, self.n = X_train.shape\n",
    "  \n",
    "    def predict( self, X_test ) :\n",
    "        self.X_test = X_test\n",
    "        self.m_test, self.n = X_test.shape\n",
    "        Y_predict = np.zeros( self.m_test )\n",
    "        for i in range( self.m_test ) :\n",
    "            x = self.X_test[i]\n",
    "            neighbors = np.zeros( self.K )\n",
    "            neighbors = self.find_neighbors( x )\n",
    "            Y_predict[i] = mode( neighbors )[0][0]    \n",
    "        return Y_predict\n",
    "\n",
    "    def find_neighbors( self, x ) :\n",
    "        euclidean_distances = np.zeros( self.m )\n",
    "        for i in range( self.m ) :\n",
    "            d = self.euclidean( x, self.X_train[i] )\n",
    "            euclidean_distances[i] = d\n",
    "        inds = euclidean_distances.argsort()\n",
    "        Y_train_sorted = self.Y_train[inds]\n",
    "        return Y_train_sorted[:self.K]\n",
    "\n",
    "    def euclidean( self, x, x_train ) :\n",
    "        return np.sqrt( np.sum( np.square( x - x_train ) ) )  \n",
    "    \n",
    "def Confusion_Matrix(prediction, targets): \n",
    "    conf = np.zeros((3, 3), dtype=np.int32)\n",
    "    #Prediction = np.array(prediction)\n",
    "    #Target = np.array(targets)\n",
    "    for i in range(len(prediction)):\n",
    "        if prediction[i] == 3: \n",
    "            if targets[i] == 3:\n",
    "                conf[0][0] += 1\n",
    "            elif targets[i] == 2:\n",
    "                conf[0][1] += 1\n",
    "            elif targets[i] == 1:\n",
    "                conf[0][2] += 1\n",
    "        elif prediction[i] == 2: \n",
    "            if targets[i] == 3:\n",
    "                conf[1][0] += 1\n",
    "            elif targets[i] == 2:\n",
    "                conf[1][1] += 1\n",
    "            elif targets[i] == 1:\n",
    "                conf[1][2] += 1\n",
    "        elif prediction[i] == 1: \n",
    "            if targets[i] == 3:\n",
    "                conf[2][0] += 1\n",
    "            elif targets[i] == 2:\n",
    "                conf[2][1] += 1\n",
    "            elif targets[i] == 1:\n",
    "                conf[2][2] += 1\n",
    "    print(conf)\n",
    "    \n",
    "def Accuracy(Y_pred,Y_test):\n",
    "    correctly_classified = 0      \n",
    "    count = 0\n",
    "    for count in range(np.size(Y_pred)) :\n",
    "        if Y_test[count] == Y_pred[count] :\n",
    "            correctly_classified = correctly_classified + 1              \n",
    "        count = count + 1\n",
    "    return ((correctly_classified / count)*100)"
   ]
  },
  {
   "cell_type": "markdown",
   "id": "566b1821",
   "metadata": {},
   "source": [
    "# A/ Applying KNN Algorithm without any preprocessing"
   ]
  },
  {
   "cell_type": "code",
   "execution_count": 10,
   "id": "3e2065ad",
   "metadata": {},
   "outputs": [
    {
     "name": "stdout",
     "output_type": "stream",
     "text": [
      "KNN Accuracy with no preprocessing:  75.0\n",
      "[[ 5  4  0]\n",
      " [ 3 11  0]\n",
      " [ 2  0 11]]\n"
     ]
    }
   ],
   "source": [
    "df = pd.read_csv(r'E:\\university\\Term_7\\AI\\HW\\HW2\\HW2\\wine.csv')\n",
    "df = df.sample(frac = 1).reset_index(drop = True)\n",
    "X = df.iloc[:,1:]\n",
    "Y = df.iloc[:,0]\n",
    "\n",
    "X_test ,X_train = Database_Spliting (X)\n",
    "Y_test ,Y_train = Database_Spliting (Y)\n",
    "\n",
    "X_test = X_test.values\n",
    "X_train = X_train.values\n",
    "\n",
    "Y_test = Y_test.values \n",
    "Y_train = Y_train.values\n",
    "\n",
    "K = 7\n",
    "num_types = 3;\n",
    "\n",
    "model = KNN_Classifier(K) \n",
    "model.fit(X_train, Y_train)\n",
    "\n",
    "# Prediction on test set\n",
    "Y_pred = model.predict(X_test)\n",
    "\n",
    "print( \"KNN Accuracy with no preprocessing: \", Accuracy(Y_pred,Y_test))\n",
    "Confusion_Matrix(Y_pred,Y_test)"
   ]
  },
  {
   "cell_type": "code",
   "execution_count": 7,
   "id": "f7708192",
   "metadata": {},
   "outputs": [
    {
     "name": "stdout",
     "output_type": "stream",
     "text": [
      "Requirement already satisfied: metric-learn in e:\\app\\anaconda\\lib\\site-packages (0.6.2)\n",
      "Requirement already satisfied: scipy in e:\\app\\anaconda\\lib\\site-packages (from metric-learn) (1.6.2)\n",
      "Requirement already satisfied: scikit-learn>=0.20.3 in e:\\app\\anaconda\\lib\\site-packages (from metric-learn) (0.24.1)\n",
      "Requirement already satisfied: numpy in e:\\app\\anaconda\\lib\\site-packages (from metric-learn) (1.20.1)\n",
      "Requirement already satisfied: threadpoolctl>=2.0.0 in e:\\app\\anaconda\\lib\\site-packages (from scikit-learn>=0.20.3->metric-learn) (2.1.0)\n",
      "Requirement already satisfied: joblib>=0.11 in e:\\app\\anaconda\\lib\\site-packages (from scikit-learn>=0.20.3->metric-learn) (1.0.1)\n",
      "Note: you may need to restart the kernel to use updated packages.\n"
     ]
    }
   ],
   "source": [
    "pip install metric-learn"
   ]
  },
  {
   "cell_type": "markdown",
   "id": "57614360",
   "metadata": {},
   "source": [
    "# B/ Applying KNN Algorithm using 1)LMNN and 2)NCA"
   ]
  },
  {
   "cell_type": "code",
   "execution_count": 15,
   "id": "4db43dbe",
   "metadata": {},
   "outputs": [
    {
     "name": "stdout",
     "output_type": "stream",
     "text": [
      "LMNN X is:  [[ 1.49636816e+01  2.76072053e+00  5.14131518e+00 ... -6.30815944e-01\n",
      "   2.51993262e-01  7.35207455e-02]\n",
      " [ 1.37390377e+01  1.24542086e+00  4.71946121e+00 ...  1.34072454e-01\n",
      "   1.70133052e+00  5.58780457e-02]\n",
      " [ 1.38629611e+01  3.10197589e+00  5.26967595e+00 ... -3.15483248e-02\n",
      "   2.33589541e+00  1.43088909e-01]\n",
      " ...\n",
      " [ 1.44408925e+01  1.63995340e+00  6.55331500e+00 ...  1.19201185e-01\n",
      "   9.97476915e-01  2.27217751e-01]\n",
      " [ 1.40300159e+01  1.13544628e+00  3.97555609e+00 ... -1.11698316e-01\n",
      "   1.91563246e+00 -2.56985496e-03]\n",
      " [ 1.61729608e+01  2.91819941e+00  8.58561063e+00 ... -3.70921781e-01\n",
      "   2.71651138e+00  4.01243185e-01]]\n",
      "NCA X is:  [[-30.54946906  -6.10640478  12.28790805 ...   6.78301189  12.88934244\n",
      "  463.67696953]\n",
      " [-28.93155672  -7.12972339  10.95796634 ...   6.98698423  11.45729136\n",
      "  433.4234958 ]\n",
      " [-39.35597727  -7.28588056  11.99797763 ...   8.33447807  12.27232574\n",
      "  542.14650407]\n",
      " ...\n",
      " [-49.76755355 -12.39040548  14.23226283 ...  10.27235281  12.25857918\n",
      "  653.52506023]\n",
      " [-19.66370905  -5.1807165    9.57416999 ...   5.38420942  11.79993888\n",
      "  340.71251152]\n",
      " [-75.5212162  -16.63336427  17.86641182 ...  13.62504104  14.11121212\n",
      "  942.3259165 ]]\n",
      "KNN Accuracy using LMNN:  94.44444444444444\n",
      "[[11  1  0]\n",
      " [ 0  8  0]\n",
      " [ 0  1 15]]\n",
      "KNN Accuracy using NCA:  75.0\n",
      "[[ 5  2  0]\n",
      " [ 6  7  0]\n",
      " [ 0  1 15]]\n"
     ]
    }
   ],
   "source": [
    "from metric_learn import LMNN\n",
    "from metric_learn import NCA\n",
    "\n",
    "df = pd.read_csv(r'E:\\university\\Term_7\\AI\\HW\\HW2\\HW2\\wine.csv')\n",
    "df = df.sample(frac = 1).reset_index(drop = True)\n",
    "X = df.iloc[:,1:]\n",
    "Y = df.iloc[:,0]\n",
    "\n",
    "X_test ,X_train = Database_Spliting (X)\n",
    "Y_test ,Y_train = Database_Spliting (Y)\n",
    "\n",
    "X_test = X_test.values\n",
    "X_train = X_train.values\n",
    "\n",
    "Y_test = Y_test.values \n",
    "Y_train = Y_train.values\n",
    "\n",
    "\n",
    "K = 5\n",
    "model_LMNN = KNN_Classifier(K)\n",
    "model_NCA = KNN_Classifier(K)\n",
    "\n",
    "######### LMNN\n",
    "lmnn = LMNN(k=5, learn_rate=1e-6)\n",
    "lmnn.fit(X_train,Y_train)\n",
    "X_train_LMNN = lmnn.transform(X_train)\n",
    "print (\"LMNN X is: \",X_train_LMNN)\n",
    "X_test_LMNN = lmnn.transform(X_test)\n",
    "\n",
    " \n",
    "model_LMNN.fit(X_train_LMNN, Y_train)\n",
    "Y_pred_LMNN = model_LMNN.predict(X_test_LMNN)\n",
    "\n",
    "######### NCA\n",
    "nca = NCA(max_iter=1000)\n",
    "nca.fit(X_train, Y_train)\n",
    "\n",
    "X_train_NCA = nca.transform(X_train)\n",
    "print (\"NCA X is: \",X_train_NCA)\n",
    "X_test_NCA = nca.transform(X_test)\n",
    "\n",
    "model_NCA.fit(X_train_NCA, Y_train)\n",
    "Y_pred_NCA = model_NCA.predict(X_test_NCA)\n",
    "\n",
    "\n",
    "\n",
    "print( \"KNN Accuracy using LMNN: \", Accuracy(Y_pred_LMNN,Y_test))\n",
    "Confusion_Matrix(Y_pred_LMNN,Y_test)\n",
    "print( \"KNN Accuracy using NCA: \", Accuracy(Y_pred_NCA,Y_test))\n",
    "\n",
    "Confusion_Matrix(Y_pred_NCA,Y_test)"
   ]
  },
  {
   "cell_type": "markdown",
   "id": "1cd13d78",
   "metadata": {},
   "source": [
    "# Comparing LMNN and NCA KNN"
   ]
  },
  {
   "cell_type": "code",
   "execution_count": 14,
   "id": "c46e5677",
   "metadata": {},
   "outputs": [
    {
     "data": {
      "text/plain": [
       "Text(0.5, 1.0, 'KNN Algorithm using preprocessing')"
      ]
     },
     "execution_count": 14,
     "metadata": {},
     "output_type": "execute_result"
    },
    {
     "data": {
      "image/png": "[encoded data removed]",
      "text/plain": [
       "<Figure size 432x288 with 1 Axes>"
      ]
     },
     "metadata": {
      "needs_background": "light"
     },
     "output_type": "display_data"
    }
   ],
   "source": [
    "import matplotlib.pyplot as plt\n",
    "\n",
    "k = np.array([3,5,7,9,11,13,15,17,19,21])\n",
    "size_K = np.size(k)\n",
    "Acc_L = np.zeros(size_K)\n",
    "Acc_N = np.zeros(size_K)\n",
    "\n",
    "for i in range(size_K):\n",
    "    model_LMNN = KNN_Classifier(K=k[i])\n",
    "    model_NCA = KNN_Classifier(K=k[i]) \n",
    "    model_LMNN.fit(X_train_LMNN, Y_train)\n",
    "    model_NCA.fit(X_train_NCA, Y_train)\n",
    "    Y_pred_LMNN = model_LMNN.predict(X_test_LMNN)\n",
    "    Y_pred_NCA = model_NCA.predict(X_test_NCA)\n",
    "    Acc_L[i]=Accuracy(Y_pred_LMNN,Y_test)\n",
    "    Acc_N[i]=Accuracy(Y_pred_NCA,Y_test)\n",
    "\n",
    "plt.plot(k, Acc_L, color='r', label='LMNN')\n",
    "plt.plot(k, Acc_N, color='g', label='NCA')\n",
    "plt.xlabel(\"K\")\n",
    "plt.ylabel(\"Accuracy\")\n",
    "plt.title(\"KNN Algorithm using preprocessing\")"
   ]
  },
  {
   "cell_type": "code",
   "execution_count": null,
   "id": "5b993894",
   "metadata": {},
   "outputs": [],
   "source": []
  },
  {
   "cell_type": "code",
   "execution_count": null,
   "id": "ac4be45b",
   "metadata": {},
   "outputs": [],
   "source": []
  },
  {
   "cell_type": "code",
   "execution_count": null,
   "id": "965507fd",
   "metadata": {},
   "outputs": [],
   "source": []
  }
 ],
 "metadata": {
  "kernelspec": {
   "display_name": "Python 3",
   "language": "python",
   "name": "python3"
  },
  "language_info": {
   "codemirror_mode": {
    "name": "ipython",
    "version": 3
   },
   "file_extension": ".py",
   "mimetype": "text/x-python",
   "name": "python",
   "nbconvert_exporter": "python",
   "pygments_lexer": "ipython3",
   "version": "3.8.8"
  }
 },
 "nbformat": 4,
 "nbformat_minor": 5
}
