{
 "cells": [
  {
   "cell_type": "code",
   "execution_count": 1,
   "id": "4dc94b8e",
   "metadata": {},
   "outputs": [
    {
     "name": "stdout",
     "output_type": "stream",
     "text": [
      "Confusion_Matrix = \n",
      "  [[50  0  0]\n",
      " [ 0 37 13]\n",
      " [ 0 15 35]]\n",
      "Confidence_Matrix = \n",
      " [[1.         0.         0.        ]\n",
      " [0.         1.         0.37142857]\n",
      " [0.         0.40540541 1.        ]]\n",
      "Accuarcy = 0.8133333333333334\n"
     ]
    }
   ],
   "source": [
    "import numpy as np\n",
    "from sklearn.multiclass import OneVsRestClassifier\n",
    "from sklearn.svm import SVC\n",
    "from sklearn import datasets\n",
    "from sklearn.metrics import accuracy_score\n",
    "from sklearn.metrics import confusion_matrix\n",
    "\n",
    "iris = datasets.load_iris()\n",
    "data = iris.data[:, :2] #data\n",
    "#print (data)\n",
    "#print (label)\n",
    "label = iris.target #label\n",
    "clf = OneVsRestClassifier(SVC()).fit(data, label)\n",
    "Y_Pred=clf.predict(data);\n",
    "CM=confusion_matrix(label, Y_Pred)\n",
    "print (\"Confusion_Matrix = \\n \" ,CM)\n",
    "print (\"Confidence_Matrix = \\n\", CM/CM.max(axis=1))\n",
    "print (\"Accuarcy =\" ,accuracy_score(label, Y_Pred))\n",
    "\n",
    "#print (clf.get_params(deep=True))\n",
    "#a = clf.score(data, label, clf.get_params(deep=True))\n",
    "\n"
   ]
  },
  {
   "cell_type": "code",
   "execution_count": null,
   "id": "f0a6012f",
   "metadata": {},
   "outputs": [],
   "source": []
  }
 ],
 "metadata": {
  "kernelspec": {
   "display_name": "Python 3",
   "language": "python",
   "name": "python3"
  },
  "language_info": {
   "codemirror_mode": {
    "name": "ipython",
    "version": 3
   },
   "file_extension": ".py",
   "mimetype": "text/x-python",
   "name": "python",
   "nbconvert_exporter": "python",
   "pygments_lexer": "ipython3",
   "version": "3.8.8"
  }
 },
 "nbformat": 4,
 "nbformat_minor": 5
}
