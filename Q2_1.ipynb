{
 "cells": [
  {
   "cell_type": "code",
   "execution_count": 1,
   "id": "6e130dc6",
   "metadata": {},
   "outputs": [
    {
     "data": {
      "text/plain": [
       "-75.57593528101775"
      ]
     },
     "execution_count": 1,
     "metadata": {},
     "output_type": "execute_result"
    }
   ],
   "source": [
    "import numpy as np\n",
    "from numpy import linalg as LA\n",
    "from array import *\n",
    "\n",
    "\n",
    "def gradient_func(X): #Function for computing Gradient\n",
    "    grad = np.array([2*X[0]+2*np.pi*X[1]*np.sin(0.2*np.pi*X[0])-15*np.cos(0.4*np.pi*X[1]),\n",
    "                                                 2*X[1]+6*np.pi*X[0]*np.sin(0.4*np.pi*X[1])-10*np.cos(0.2*np.pi*X[0])])\n",
    "    return grad\n",
    "def gradient_descent(start, alpha):\n",
    "    vector = start\n",
    "    iteration=10000\n",
    "    while (iteration>0): #Condition to finish the algorithm loop is iteration\n",
    "        vector =np.add(vector,-1*alpha * gradient_func(vector))\n",
    "        iteration-=1;\n",
    "    return vector\n",
    "def main_func(X):#Main Function\n",
    "    func = X[0]**2 - 10*X[1]*np.cos(0.2*np.pi*X[0])+ X[1]**2 - 15*X[0]*np.cos(0.4*np.pi*X[1])\n",
    "    return func\n",
    "main_func(gradient_descent(np.array([11,5]),0.001))"
   ]
  },
  {
   "cell_type": "code",
   "execution_count": null,
   "id": "a49e50c3",
   "metadata": {},
   "outputs": [],
   "source": []
  }
 ],
 "metadata": {
  "kernelspec": {
   "display_name": "Python 3",
   "language": "python",
   "name": "python3"
  },
  "language_info": {
   "codemirror_mode": {
    "name": "ipython",
    "version": 3
   },
   "file_extension": ".py",
   "mimetype": "text/x-python",
   "name": "python",
   "nbconvert_exporter": "python",
   "pygments_lexer": "ipython3",
   "version": "3.8.8"
  }
 },
 "nbformat": 4,
 "nbformat_minor": 5
}
