{
 "cells": [
  {
   "cell_type": "code",
   "execution_count": 6,
   "id": "3292d8ce",
   "metadata": {},
   "outputs": [
    {
     "name": "stdout",
     "output_type": "stream",
     "text": [
      "first_value: 21.51854483483784\n",
      "Optimom_value -75.50177083362223\n"
     ]
    }
   ],
   "source": [
    "import numpy as np\n",
    "from numpy import linalg as LA\n",
    "from array import *\n",
    "\n",
    "\n",
    "def gradient_func(X):\n",
    "    grad = np.array([2*X[0]+2*np.pi*X[1]*np.sin(0.2*np.pi*X[0])-15*np.cos(0.4*np.pi*X[1]),\n",
    "                                                 2*X[1]+6*np.pi*X[0]*np.sin(0.4*np.pi*X[1])-10*np.cos(0.2*np.pi*X[0])])\n",
    "    return grad\n",
    "\n",
    "\n",
    "def gradient_descent(start, alpha):\n",
    "    vector = start\n",
    "    iteration=10000\n",
    "    while (iteration>0):\n",
    "        vector =np.add(vector,-1*alpha * gradient_func(vector))\n",
    "        #if norm(gradient_func(vector)) <= 1e-02:\n",
    "         #   break\n",
    "        iteration-=1;\n",
    "    return vector\n",
    "\n",
    "def main_func(X):\n",
    "    func = X[0]**2 - 10*X[1]*np.cos(0.2*np.pi*X[0])+ X[1]**2 - 15*X[0]*np.cos(0.4*np.pi*X[1])\n",
    "    return func\n",
    "main_func(gradient_descent(np.array([11,5]),0.001))\n",
    "\n",
    "\n",
    "\n",
    "T0 = 50 #High Temp\n",
    "Lim = [-15, 15] #Questions Limits\n",
    "alpha = 7 #learning rate or step\n",
    "itera = 1000 #Number of epochs\n",
    "point = np.random.rand(1,2)*(Lim[1] - Lim[0]) + np.ones(2)*Lim[0] #choosing a random point\n",
    "pres = point\n",
    "pt_func = main_func(point[0])\n",
    "pres_func = pt_func\n",
    "print (\"first_value:\", pt_func)\n",
    "\n",
    "for i in range(itera):\n",
    "    prob_next= alpha*np.random.randn(1,2) + pres #Calculating the next probable point\n",
    "    prob_nt_func = main_func(prob_next[0])\n",
    "    D = prob_nt_func - pres_func #Calculating the difference\n",
    "    T = T0/float(i+1) #Next Temp\n",
    "    probab = np.exp(-D/T) #Calculating the probabilty\n",
    "    if (D<0) or (probab > np.random.rand()): #if better point?\n",
    "        pres = prob_next\n",
    "        pres_func = prob_nt_func\n",
    "    if prob_nt_func < pt_func:\n",
    "        point = prob_next\n",
    "        pt_func = prob_nt_func\n",
    "print (\"Optimom_value\", pt_func)"
   ]
  },
  {
   "cell_type": "code",
   "execution_count": null,
   "id": "44a776b9",
   "metadata": {},
   "outputs": [],
   "source": []
  }
 ],
 "metadata": {
  "kernelspec": {
   "display_name": "Python 3",
   "language": "python",
   "name": "python3"
  },
  "language_info": {
   "codemirror_mode": {
    "name": "ipython",
    "version": 3
   },
   "file_extension": ".py",
   "mimetype": "text/x-python",
   "name": "python",
   "nbconvert_exporter": "python",
   "pygments_lexer": "ipython3",
   "version": "3.8.8"
  }
 },
 "nbformat": 4,
 "nbformat_minor": 5
}
