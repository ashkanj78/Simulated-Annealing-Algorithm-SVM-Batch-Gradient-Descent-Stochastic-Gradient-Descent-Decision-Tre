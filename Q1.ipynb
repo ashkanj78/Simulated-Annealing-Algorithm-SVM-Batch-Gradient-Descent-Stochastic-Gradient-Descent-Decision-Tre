{
 "cells": [
  {
   "cell_type": "code",
   "execution_count": 2,
   "id": "2a801130",
   "metadata": {},
   "outputs": [
    {
     "data": {
      "text/plain": [
       "array([-2.39999975,  0.39999988])"
      ]
     },
     "execution_count": 2,
     "metadata": {},
     "output_type": "execute_result"
    }
   ],
   "source": [
    "import numpy as np\n",
    "from numpy import linalg as LA\n",
    "from array import *\n",
    "\n",
    "def gradient_func(X): #Function for computing Gradient\n",
    "    grad = np.array([6*X[0]+12+6*X[1],16*X[1]+8+6*X[0]])\n",
    "    return grad\n",
    "def gradient_descent(start, alpha): #GD Algorithm\n",
    "    vector = start\n",
    "    while (True):\n",
    "        vector =np.add(vector,-1*alpha * gradient_func(vector))\n",
    "        if LA.norm(gradient_func(vector)) <= 1e-06: #check error with a treshold\n",
    "            break\n",
    "    return vector\n",
    "gradient_descent(np.array([1,1]),0.06)"
   ]
  },
  {
   "cell_type": "code",
   "execution_count": null,
   "id": "410cd4f7",
   "metadata": {},
   "outputs": [],
   "source": []
  }
 ],
 "metadata": {
  "kernelspec": {
   "display_name": "Python 3",
   "language": "python",
   "name": "python3"
  },
  "language_info": {
   "codemirror_mode": {
    "name": "ipython",
    "version": 3
   },
   "file_extension": ".py",
   "mimetype": "text/x-python",
   "name": "python",
   "nbconvert_exporter": "python",
   "pygments_lexer": "ipython3",
   "version": "3.8.8"
  }
 },
 "nbformat": 4,
 "nbformat_minor": 5
}
